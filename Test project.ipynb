{
 "cells": [
  {
   "cell_type": "code",
   "execution_count": 1,
   "metadata": {
    "collapsed": true
   },
   "outputs": [],
   "source": [
    "import pandas as pd"
   ]
  },
  {
   "cell_type": "code",
   "execution_count": 12,
   "metadata": {
    "collapsed": true
   },
   "outputs": [],
   "source": [
    "from scipy.stats import ttest_ind"
   ]
  },
  {
   "cell_type": "code",
   "execution_count": 19,
   "metadata": {
    "collapsed": true
   },
   "outputs": [],
   "source": [
    "import matplotlib.pyplot as plt"
   ]
  },
  {
   "cell_type": "code",
   "execution_count": 21,
   "metadata": {
    "collapsed": true
   },
   "outputs": [],
   "source": [
    "import matplotlib\n",
    "matplotlib.style.use('ggplot')"
   ]
  },
  {
   "cell_type": "code",
   "execution_count": 3,
   "metadata": {
    "collapsed": false
   },
   "outputs": [],
   "source": [
    "data = pd.read_csv('company_finance.csv')"
   ]
  },
  {
   "cell_type": "code",
   "execution_count": 4,
   "metadata": {
    "collapsed": false
   },
   "outputs": [
    {
     "data": {
      "text/html": [
       "<div>\n",
       "<table border=\"1\" class=\"dataframe\">\n",
       "  <thead>\n",
       "    <tr style=\"text-align: right;\">\n",
       "      <th></th>\n",
       "      <th>Unnamed: 0</th>\n",
       "      <th>symbol</th>\n",
       "      <th>PEG.Ratio</th>\n",
       "      <th>Earnings.Share</th>\n",
       "      <th>P.E.Ratio</th>\n",
       "      <th>Price.Sales</th>\n",
       "      <th>EBITDA</th>\n",
       "      <th>Price.Book</th>\n",
       "      <th>suspend</th>\n",
       "    </tr>\n",
       "  </thead>\n",
       "  <tbody>\n",
       "    <tr>\n",
       "      <th>1</th>\n",
       "      <td>3</td>\n",
       "      <td>AAC</td>\n",
       "      <td>1.02</td>\n",
       "      <td>0.48</td>\n",
       "      <td>41.90</td>\n",
       "      <td>2.33</td>\n",
       "      <td>27.85M</td>\n",
       "      <td>3.19</td>\n",
       "      <td>0</td>\n",
       "    </tr>\n",
       "    <tr>\n",
       "      <th>2</th>\n",
       "      <td>4</td>\n",
       "      <td>ABT</td>\n",
       "      <td>2.18</td>\n",
       "      <td>2.93</td>\n",
       "      <td>14.99</td>\n",
       "      <td>3.17</td>\n",
       "      <td>4.46B</td>\n",
       "      <td>3.05</td>\n",
       "      <td>0</td>\n",
       "    </tr>\n",
       "    <tr>\n",
       "      <th>3</th>\n",
       "      <td>5</td>\n",
       "      <td>ABBV</td>\n",
       "      <td>0.79</td>\n",
       "      <td>3.13</td>\n",
       "      <td>19.61</td>\n",
       "      <td>4.26</td>\n",
       "      <td>9.74B</td>\n",
       "      <td>24.69</td>\n",
       "      <td>0</td>\n",
       "    </tr>\n",
       "    <tr>\n",
       "      <th>4</th>\n",
       "      <td>6</td>\n",
       "      <td>ABEO</td>\n",
       "      <td>0.00</td>\n",
       "      <td>-1.18</td>\n",
       "      <td>NaN</td>\n",
       "      <td>83.14</td>\n",
       "      <td>-12.35M</td>\n",
       "      <td>1.20</td>\n",
       "      <td>0</td>\n",
       "    </tr>\n",
       "  </tbody>\n",
       "</table>\n",
       "</div>"
      ],
      "text/plain": [
       "   Unnamed: 0 symbol  PEG.Ratio  Earnings.Share  P.E.Ratio  Price.Sales  \\\n",
       "1           3    AAC       1.02            0.48      41.90         2.33   \n",
       "2           4    ABT       2.18            2.93      14.99         3.17   \n",
       "3           5   ABBV       0.79            3.13      19.61         4.26   \n",
       "4           6   ABEO       0.00           -1.18        NaN        83.14   \n",
       "\n",
       "    EBITDA  Price.Book  suspend  \n",
       "1   27.85M        3.19        0  \n",
       "2    4.46B        3.05        0  \n",
       "3    9.74B       24.69        0  \n",
       "4  -12.35M        1.20        0  "
      ]
     },
     "execution_count": 4,
     "metadata": {},
     "output_type": "execute_result"
    }
   ],
   "source": [
    "data[1:5]"
   ]
  },
  {
   "cell_type": "code",
   "execution_count": 9,
   "metadata": {
    "collapsed": true
   },
   "outputs": [],
   "source": [
    "def cal(x):\n",
    "    x = str(x)\n",
    "    if 'B' in x:\n",
    "        a = x.replace('B','')\n",
    "        a = float(a)\n",
    "        b = a* 1000000000\n",
    "        return b\n",
    "    if 'M'in x:\n",
    "        c = x.replace('M','')\n",
    "        d = float(c)\n",
    "        e = d * 1000000\n",
    "        return e\n",
    "    else:return x"
   ]
  },
  {
   "cell_type": "code",
   "execution_count": 10,
   "metadata": {
    "collapsed": false
   },
   "outputs": [],
   "source": [
    "data['EBITDA'] = data['EBITDA'].map(cal)"
   ]
  },
  {
   "cell_type": "code",
   "execution_count": 11,
   "metadata": {
    "collapsed": false
   },
   "outputs": [
    {
     "data": {
      "text/html": [
       "<div>\n",
       "<table border=\"1\" class=\"dataframe\">\n",
       "  <thead>\n",
       "    <tr style=\"text-align: right;\">\n",
       "      <th></th>\n",
       "      <th>Unnamed: 0</th>\n",
       "      <th>symbol</th>\n",
       "      <th>PEG.Ratio</th>\n",
       "      <th>Earnings.Share</th>\n",
       "      <th>P.E.Ratio</th>\n",
       "      <th>Price.Sales</th>\n",
       "      <th>EBITDA</th>\n",
       "      <th>Price.Book</th>\n",
       "      <th>suspend</th>\n",
       "    </tr>\n",
       "  </thead>\n",
       "  <tbody>\n",
       "    <tr>\n",
       "      <th>1</th>\n",
       "      <td>3</td>\n",
       "      <td>AAC</td>\n",
       "      <td>1.02</td>\n",
       "      <td>0.48</td>\n",
       "      <td>41.90</td>\n",
       "      <td>2.33</td>\n",
       "      <td>2.785e+07</td>\n",
       "      <td>3.19</td>\n",
       "      <td>0</td>\n",
       "    </tr>\n",
       "    <tr>\n",
       "      <th>2</th>\n",
       "      <td>4</td>\n",
       "      <td>ABT</td>\n",
       "      <td>2.18</td>\n",
       "      <td>2.93</td>\n",
       "      <td>14.99</td>\n",
       "      <td>3.17</td>\n",
       "      <td>4.46e+09</td>\n",
       "      <td>3.05</td>\n",
       "      <td>0</td>\n",
       "    </tr>\n",
       "    <tr>\n",
       "      <th>3</th>\n",
       "      <td>5</td>\n",
       "      <td>ABBV</td>\n",
       "      <td>0.79</td>\n",
       "      <td>3.13</td>\n",
       "      <td>19.61</td>\n",
       "      <td>4.26</td>\n",
       "      <td>9.74e+09</td>\n",
       "      <td>24.69</td>\n",
       "      <td>0</td>\n",
       "    </tr>\n",
       "    <tr>\n",
       "      <th>4</th>\n",
       "      <td>6</td>\n",
       "      <td>ABEO</td>\n",
       "      <td>0.00</td>\n",
       "      <td>-1.18</td>\n",
       "      <td>NaN</td>\n",
       "      <td>83.14</td>\n",
       "      <td>-1.235e+07</td>\n",
       "      <td>1.20</td>\n",
       "      <td>0</td>\n",
       "    </tr>\n",
       "  </tbody>\n",
       "</table>\n",
       "</div>"
      ],
      "text/plain": [
       "   Unnamed: 0 symbol  PEG.Ratio  Earnings.Share  P.E.Ratio  Price.Sales  \\\n",
       "1           3    AAC       1.02            0.48      41.90         2.33   \n",
       "2           4    ABT       2.18            2.93      14.99         3.17   \n",
       "3           5   ABBV       0.79            3.13      19.61         4.26   \n",
       "4           6   ABEO       0.00           -1.18        NaN        83.14   \n",
       "\n",
       "      EBITDA  Price.Book  suspend  \n",
       "1  2.785e+07        3.19        0  \n",
       "2   4.46e+09        3.05        0  \n",
       "3   9.74e+09       24.69        0  \n",
       "4 -1.235e+07        1.20        0  "
      ]
     },
     "execution_count": 11,
     "metadata": {},
     "output_type": "execute_result"
    }
   ],
   "source": [
    "data[1:5]"
   ]
  },
  {
   "cell_type": "code",
   "execution_count": 14,
   "metadata": {
    "collapsed": false
   },
   "outputs": [],
   "source": [
    "good = data[data['suspend']==0]\n",
    "bad = data[data['suspend']==1]"
   ]
  },
  {
   "cell_type": "code",
   "execution_count": 16,
   "metadata": {
    "collapsed": true
   },
   "outputs": [],
   "source": [
    "data.to_csv('company_convert.csv')"
   ]
  },
  {
   "cell_type": "code",
   "execution_count": 15,
   "metadata": {
    "collapsed": false
   },
   "outputs": [
    {
     "data": {
      "text/plain": [
       "Ttest_indResult(statistic=nan, pvalue=nan)"
      ]
     },
     "execution_count": 15,
     "metadata": {},
     "output_type": "execute_result"
    }
   ],
   "source": [
    "# Na so ttest doesn't work\n",
    "ttest_ind(good['Price.Sales'],bad['Price.Sales'])"
   ]
  },
  {
   "cell_type": "code",
   "execution_count": 22,
   "metadata": {
    "collapsed": false
   },
   "outputs": [
    {
     "data": {
      "text/plain": [
       "<matplotlib.axes._subplots.AxesSubplot at 0x1c777198>"
      ]
     },
     "execution_count": 22,
     "metadata": {},
     "output_type": "execute_result"
    }
   ],
   "source": [
    "good['Price.Book'].plot(kind='hist')"
   ]
  }
 ],
 "metadata": {
  "kernelspec": {
   "display_name": "Python 2",
   "language": "python",
   "name": "python2"
  },
  "language_info": {
   "codemirror_mode": {
    "name": "ipython",
    "version": 2
   },
   "file_extension": ".py",
   "mimetype": "text/x-python",
   "name": "python",
   "nbconvert_exporter": "python",
   "pygments_lexer": "ipython2",
   "version": "2.7.11"
  }
 },
 "nbformat": 4,
 "nbformat_minor": 0
}
